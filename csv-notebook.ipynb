{
 "cells": [
  {
   "cell_type": "markdown",
   "metadata": {},
   "source": [
    "# Using CSV's to get, use, and display data\n",
    "\n",
    "## Using the csv module in the simplest way\n",
    "\n",
    "Being able to use the `csv` module in Python is as simple as `import csv`, however there is a lot to how to use this code correctly. For programmers with some experience, a reference like [the Official Python docs on the csv module](https://docs.python.org/3/library/csv.html), could help a lot, but for new programmers, I've included a fair bit of examples below. The grand goal in this Notebook is to comb a ~5,500 line spreadsheet in less than a second to count how many spam messages are contained in the file...\n",
    "\n",
    "But first, here's using `csv` in a simple way, just on a List as we saw on Friday:"
   ]
  },
  {
   "cell_type": "code",
   "execution_count": 2,
   "metadata": {},
   "outputs": [
    {
     "name": "stdout",
     "output_type": "stream",
     "text": [
      "1,  2,  3\n",
      "2,  4,  6\n",
      "3,  6,  9\n"
     ]
    }
   ],
   "source": [
    "import csv\n",
    "\n",
    "practice_data = [\"1, 2, 3\", \"2, 4, 6\", \"3, 6, 9\"]\n",
    "\n",
    "data_reader = csv.reader(practice_data)\n",
    "\n",
    "for row in data_reader:\n",
    "    print(', '.join(row))"
   ]
  },
  {
   "cell_type": "markdown",
   "metadata": {},
   "source": [
    "Expected output for the code above is:\n",
    "\n",
    "```\n",
    "1,  2,  3\n",
    "2,  4,  6\n",
    "3,  6,  9\n",
    "```\n",
    "\n",
    "Making the `csv.reader` read a List instead of a file, is a bit against its purpose, but it more clearly demonstrates where the data is coming from."
   ]
  },
  {
   "cell_type": "markdown",
   "metadata": {},
   "source": [
    "## Using csv.reader on a file instead of a list\n",
    "\n",
    "Needing to copy and paste data from a CSV file to a Python script is possible but not very efficient (especially when applying the syntax for a List to it!). Next I will demonstrate using `csv.reader` directly on a file, which is more along the lines of why it was created."
   ]
  },
  {
   "cell_type": "code",
   "execution_count": null,
   "metadata": {},
   "outputs": [],
   "source": []
  }
 ],
 "metadata": {
  "kernelspec": {
   "display_name": "Python 3",
   "language": "python",
   "name": "python3"
  },
  "language_info": {
   "codemirror_mode": {
    "name": "ipython",
    "version": 3
   },
   "file_extension": ".py",
   "mimetype": "text/x-python",
   "name": "python",
   "nbconvert_exporter": "python",
   "pygments_lexer": "ipython3",
   "version": "3.7.6"
  }
 },
 "nbformat": 4,
 "nbformat_minor": 4
}
