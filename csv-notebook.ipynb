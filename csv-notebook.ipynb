{
 "cells": [
  {
   "cell_type": "markdown",
   "metadata": {},
   "source": [
    "# Using CSV's to get, use, and display data\n",
    "\n",
    "## Using the csv module in the simplest way\n",
    "\n",
    "Being able to use the `csv` module in Python is as simple as `import csv`, however there is a lot to how to use this code correctly. For programmers with some experience, a reference like [the Official Python docs on the csv module](https://docs.python.org/3/library/csv.html), could help a lot, but for new programmers, I've included a fair bit of examples below. The grand goal in this Notebook is to comb a ~5,500 line spreadsheet in less than a second to count how many spam messages are contained in the file...\n",
    "\n",
    "But first, here's using `csv` in a simple way, just on a List as we saw on Friday:"
   ]
  },
  {
   "cell_type": "code",
   "execution_count": 1,
   "metadata": {},
   "outputs": [
    {
     "name": "stdout",
     "output_type": "stream",
     "text": [
      "1,  2,  3\n",
      "2,  4,  6\n",
      "3,  6,  9\n"
     ]
    }
   ],
   "source": [
    "import csv\n",
    "\n",
    "practice_data = [\"1, 2, 3\", \"2, 4, 6\", \"3, 6, 9\"]\n",
    "\n",
    "data_reader = csv.reader(practice_data)\n",
    "\n",
    "for row in data_reader:\n",
    "    print(', '.join(row))"
   ]
  },
  {
   "cell_type": "markdown",
   "metadata": {},
   "source": [
    "Expected output for the code above is:\n",
    "\n",
    "```\n",
    "1,  2,  3\n",
    "2,  4,  6\n",
    "3,  6,  9\n",
    "```\n",
    "\n",
    "Making the `csv.reader` read a List instead of a file, is a bit against its purpose, but it more clearly demonstrates where the data is coming from."
   ]
  },
  {
   "cell_type": "markdown",
   "metadata": {},
   "source": [
    "## Using csv.reader on a file instead of a list\n",
    "\n",
    "Needing to copy and paste data from a CSV file to a Python script is possible but not very efficient (especially when applying the syntax for a List to it!). Next I will demonstrate using `csv.reader` directly on a file, which is more along the lines of why it was created."
   ]
  },
  {
   "cell_type": "code",
   "execution_count": 3,
   "metadata": {},
   "outputs": [
    {
     "name": "stdout",
     "output_type": "stream",
     "text": [
      "a,  b,  c\n",
      "d,  e,  f\n",
      "g,  h,  i\n",
      "j,  k,  l\n"
     ]
    }
   ],
   "source": [
    "import csv\n",
    "\n",
    "# TODO : add explanation of `with`\n",
    "with open('test.csv', newline='') as csvfile:\n",
    "    data_reader = csv.reader(csvfile)\n",
    "    \n",
    "    # TODO : understand the `.join` more here...\n",
    "    for row in data_reader:\n",
    "        print(', '.join(row))"
   ]
  },
  {
   "cell_type": "markdown",
   "metadata": {},
   "source": [
    "Expected output for the code above is:\n",
    "\n",
    "```\n",
    "a,  b,  c\n",
    "d,  e,  f\n",
    "g,  h,  i\n",
    "j,  k,  l\n",
    "```\n",
    "\n",
    "If you view [test.csv](https://github.com/syreal17/pgss2020-corecs-jupyter-w2d1/blob/master/test.csv) on GitHub, you will see roughly the same thing just with better graphics."
   ]
  },
  {
   "cell_type": "markdown",
   "metadata": {},
   "source": [
    "## Accessing the fields in CSV files\n",
    "\n",
    "So now that we can read files we can speed up a lot of work for ourselves! One important question remains: how can we access individual items in each row? Part of that is lies in the `print(', '.join(row))` statement. I don't think `join` is the most intuitive function, but it just takes a List of items and puts them together with `', '` between. Printing with commas between fields is not that important, but it is important to know that `row` in the code above is a Python List of field values. In code, the first row would be written like this: `row_1 = [\"a\", \"b\", \"c\"]` Accessing an element in this List is as easy as `row_1[0]` is `\"a\"`, `row_1[1]` is `\"b\"`, and so on.\n",
    "\n",
    "Below I demonstrate printing only the last field of each row in the `test.csv` file:"
   ]
  },
  {
   "cell_type": "code",
   "execution_count": 4,
   "metadata": {},
   "outputs": [
    {
     "name": "stdout",
     "output_type": "stream",
     "text": [
      " c\n",
      " f\n",
      " i\n",
      " l\n"
     ]
    }
   ],
   "source": [
    "import csv\n",
    "\n",
    "with open('test.csv', newline='') as csvfile:\n",
    "    data_reader = csv.reader(csvfile)\n",
    "    \n",
    "    for row in data_reader:\n",
    "        print(row[2])"
   ]
  },
  {
   "cell_type": "markdown",
   "metadata": {},
   "source": [
    "## Challenge 1 (Auto-Hypotenuse)\n",
    "\n",
    "Take a look at \\[starter.csv\\]. This file contains 10 rows of data with 2 fields each. The fields are the lengths of the legs of right triangles with the first field being the length of side A and the second field being the length of side B. Please calculate the hypotonuse of all 10 triangles automatically by loading the CSV file and doing using the `a^2 + b^2 = c^2` formula for each triangle.\n",
    "\n",
    "For reference: [Hypotenuse Wiki](https://en.wikipedia.org/wiki/Hypotenuse)\n",
    "\n",
    "If you implement your program correctly, you should get the following values for the lengths of the hypotenuses:\n",
    "\n",
    "```\n",
    "5.0\n",
    "18.439088914585774\n",
    "46.69047011971501\n",
    "98.73196037757987\n",
    "656.4365925205572\n",
    "11105.935079947118\n",
    "1227.0309694543166\n",
    "31365.50873172632\n",
    "2.23606797749979\n",
    "5.830951894845301\n",
    "```\n",
    "\n",
    "You will need to write `import math` at the top of your code, as well as `import csv`. Please Google using unfamiliar functions from the `math` module!!"
   ]
  },
  {
   "cell_type": "code",
   "execution_count": 3,
   "metadata": {},
   "outputs": [
    {
     "name": "stdout",
     "output_type": "stream",
     "text": [
      "5.0\n",
      "18.439088914585774\n",
      "46.69047011971501\n",
      "98.73196037757987\n",
      "656.4365925205572\n",
      "11105.935079947118\n",
      "1227.0309694543166\n",
      "31365.50873172632\n",
      "2.23606797749979\n",
      "5.830951894845301\n"
     ]
    }
   ],
   "source": [
    "import csv\n",
    "import math\n",
    "\n",
    "with open('starter.csv', newline='') as csvfile:\n",
    "    data_reader = csv.reader(csvfile)\n",
    "    \n",
    "    for row in data_reader:\n",
    "        a = int(row[0])\n",
    "        b = int(row[1])\n",
    "        c = math.sqrt( math.pow(a, 2) + math.pow(b, 2) )\n",
    "        print(c)"
   ]
  },
  {
   "cell_type": "markdown",
   "metadata": {},
   "source": [
    "## Challenge 2 (Spam vs. Ham)\n",
    "\n",
    "In the world of spam filtering, \"ham\" messages are good messages (actual messages between people) and \"spam\" messages are unwanted messages (generally computer generated messages targeting people for unsavory purposes).\n",
    "\n",
    "In the data science world, these data sets can be used to train automatic classifiers, which is probably how most big web email providers (like Gmail) filter spam so well (but they probably have a fair bit of proprietary magic as well).\n",
    "\n",
    "The data set I acquired is called [spam.csv](https://github.com/syreal17/pgss2020-corecs-jupyter-w2d1/blob/master/spam.csv). Please view that file to determine how to count the ratio of ham to spam as presented by that data. Please note that spam messages can have unsavory content in them. Don't click any links and please pardon any foul language."
   ]
  },
  {
   "cell_type": "code",
   "execution_count": 5,
   "metadata": {},
   "outputs": [
    {
     "ename": "UnicodeDecodeError",
     "evalue": "'utf-8' codec can't decode bytes in position 606-607: invalid continuation byte",
     "output_type": "error",
     "traceback": [
      "\u001b[0;31m---------------------------------------------------------------------------\u001b[0m",
      "\u001b[0;31mUnicodeDecodeError\u001b[0m                        Traceback (most recent call last)",
      "\u001b[0;32m<ipython-input-5-355397749caf>\u001b[0m in \u001b[0;36m<module>\u001b[0;34m\u001b[0m\n\u001b[1;32m      5\u001b[0m     \u001b[0mdata_reader\u001b[0m \u001b[0;34m=\u001b[0m \u001b[0mcsv\u001b[0m\u001b[0;34m.\u001b[0m\u001b[0mreader\u001b[0m\u001b[0;34m(\u001b[0m\u001b[0mcsvfile\u001b[0m\u001b[0;34m)\u001b[0m\u001b[0;34m\u001b[0m\u001b[0;34m\u001b[0m\u001b[0m\n\u001b[1;32m      6\u001b[0m \u001b[0;34m\u001b[0m\u001b[0m\n\u001b[0;32m----> 7\u001b[0;31m     \u001b[0;32mfor\u001b[0m \u001b[0mrow\u001b[0m \u001b[0;32min\u001b[0m \u001b[0mdata_reader\u001b[0m\u001b[0;34m:\u001b[0m\u001b[0;34m\u001b[0m\u001b[0;34m\u001b[0m\u001b[0m\n\u001b[0m\u001b[1;32m      8\u001b[0m         \u001b[0mprint\u001b[0m\u001b[0;34m(\u001b[0m\u001b[0mrow\u001b[0m\u001b[0;34m[\u001b[0m\u001b[0;36m0\u001b[0m\u001b[0;34m]\u001b[0m\u001b[0;34m)\u001b[0m\u001b[0;34m\u001b[0m\u001b[0;34m\u001b[0m\u001b[0m\n",
      "\u001b[0;32m/srv/conda/envs/notebook/lib/python3.7/codecs.py\u001b[0m in \u001b[0;36mdecode\u001b[0;34m(self, input, final)\u001b[0m\n\u001b[1;32m    320\u001b[0m         \u001b[0;31m# decode input (taking the buffer into account)\u001b[0m\u001b[0;34m\u001b[0m\u001b[0;34m\u001b[0m\u001b[0;34m\u001b[0m\u001b[0m\n\u001b[1;32m    321\u001b[0m         \u001b[0mdata\u001b[0m \u001b[0;34m=\u001b[0m \u001b[0mself\u001b[0m\u001b[0;34m.\u001b[0m\u001b[0mbuffer\u001b[0m \u001b[0;34m+\u001b[0m \u001b[0minput\u001b[0m\u001b[0;34m\u001b[0m\u001b[0;34m\u001b[0m\u001b[0m\n\u001b[0;32m--> 322\u001b[0;31m         \u001b[0;34m(\u001b[0m\u001b[0mresult\u001b[0m\u001b[0;34m,\u001b[0m \u001b[0mconsumed\u001b[0m\u001b[0;34m)\u001b[0m \u001b[0;34m=\u001b[0m \u001b[0mself\u001b[0m\u001b[0;34m.\u001b[0m\u001b[0m_buffer_decode\u001b[0m\u001b[0;34m(\u001b[0m\u001b[0mdata\u001b[0m\u001b[0;34m,\u001b[0m \u001b[0mself\u001b[0m\u001b[0;34m.\u001b[0m\u001b[0merrors\u001b[0m\u001b[0;34m,\u001b[0m \u001b[0mfinal\u001b[0m\u001b[0;34m)\u001b[0m\u001b[0;34m\u001b[0m\u001b[0;34m\u001b[0m\u001b[0m\n\u001b[0m\u001b[1;32m    323\u001b[0m         \u001b[0;31m# keep undecoded input until the next call\u001b[0m\u001b[0;34m\u001b[0m\u001b[0;34m\u001b[0m\u001b[0;34m\u001b[0m\u001b[0m\n\u001b[1;32m    324\u001b[0m         \u001b[0mself\u001b[0m\u001b[0;34m.\u001b[0m\u001b[0mbuffer\u001b[0m \u001b[0;34m=\u001b[0m \u001b[0mdata\u001b[0m\u001b[0;34m[\u001b[0m\u001b[0mconsumed\u001b[0m\u001b[0;34m:\u001b[0m\u001b[0;34m]\u001b[0m\u001b[0;34m\u001b[0m\u001b[0;34m\u001b[0m\u001b[0m\n",
      "\u001b[0;31mUnicodeDecodeError\u001b[0m: 'utf-8' codec can't decode bytes in position 606-607: invalid continuation byte"
     ]
    }
   ],
   "source": [
    "import csv\n",
    "import math\n",
    "\n",
    "with open('spam.csv', newline='') as csvfile:\n",
    "    data_reader = csv.reader(csvfile)\n",
    "    \n",
    "    for row in data_reader:\n",
    "        print(row[0])"
   ]
  },
  {
   "cell_type": "code",
   "execution_count": null,
   "metadata": {},
   "outputs": [],
   "source": []
  }
 ],
 "metadata": {
  "kernelspec": {
   "display_name": "Python 3",
   "language": "python",
   "name": "python3"
  },
  "language_info": {
   "codemirror_mode": {
    "name": "ipython",
    "version": 3
   },
   "file_extension": ".py",
   "mimetype": "text/x-python",
   "name": "python",
   "nbconvert_exporter": "python",
   "pygments_lexer": "ipython3",
   "version": "3.7.6"
  }
 },
 "nbformat": 4,
 "nbformat_minor": 4
}
